{
 "cells": [
  {
   "cell_type": "code",
   "execution_count": 300,
   "metadata": {},
   "outputs": [
    {
     "name": "stderr",
     "output_type": "stream",
     "text": [
      "<>:7: SyntaxWarning: invalid escape sequence '\\P'\n",
      "<>:7: SyntaxWarning: invalid escape sequence '\\P'\n",
      "C:\\Users\\OWNER\\AppData\\Local\\Temp\\ipykernel_9112\\3924297067.py:7: SyntaxWarning: invalid escape sequence '\\P'\n",
      "  config = decouple.AutoConfig('g:\\PythonPractice\\python practice.py\\guvi\\projects\\Local Food Wastage Management System')\n"
     ]
    }
   ],
   "source": [
    "import pandas as pd\n",
    "import numpy as np\n",
    "import matplotlib.pyplot as plt \n",
    "import seaborn as sns\n",
    "from decouple import config\n",
    "import decouple\n",
    "config = decouple.AutoConfig('g:\\PythonPractice\\python practice.py\\guvi\\projects\\Local Food Wastage Management System')\n",
    "\n"
   ]
  },
  {
   "cell_type": "markdown",
   "id": "1bf2a310",
   "metadata": {},
   "source": [
    "Data preprocessing "
   ]
  },
  {
   "cell_type": "code",
   "execution_count": 301,
   "id": "d2f08758",
   "metadata": {},
   "outputs": [],
   "source": [
    "data_claims = pd.read_csv('data/claims_data.csv')\n",
    "data_food_listings = pd.read_csv('data/food_listings_data.csv')\n",
    "data_providers = pd.read_csv('data/providers_data.csv')\n",
    "data_receivers = pd.read_csv('data/receivers_data.csv')"
   ]
  },
  {
   "cell_type": "code",
   "execution_count": 302,
   "id": "ef4f80d0",
   "metadata": {},
   "outputs": [
    {
     "name": "stdout",
     "output_type": "stream",
     "text": [
      "<class 'pandas.core.frame.DataFrame'>\n",
      "RangeIndex: 1000 entries, 0 to 999\n",
      "Data columns (total 5 columns):\n",
      " #   Column       Non-Null Count  Dtype \n",
      "---  ------       --------------  ----- \n",
      " 0   Receiver_ID  1000 non-null   int64 \n",
      " 1   Name         1000 non-null   object\n",
      " 2   Type         1000 non-null   object\n",
      " 3   City         1000 non-null   object\n",
      " 4   Contact      1000 non-null   object\n",
      "dtypes: int64(1), object(4)\n",
      "memory usage: 39.2+ KB\n"
     ]
    },
    {
     "data": {
      "text/html": [
       "<div>\n",
       "<style scoped>\n",
       "    .dataframe tbody tr th:only-of-type {\n",
       "        vertical-align: middle;\n",
       "    }\n",
       "\n",
       "    .dataframe tbody tr th {\n",
       "        vertical-align: top;\n",
       "    }\n",
       "\n",
       "    .dataframe thead th {\n",
       "        text-align: right;\n",
       "    }\n",
       "</style>\n",
       "<table border=\"1\" class=\"dataframe\">\n",
       "  <thead>\n",
       "    <tr style=\"text-align: right;\">\n",
       "      <th></th>\n",
       "      <th>Receiver_ID</th>\n",
       "    </tr>\n",
       "  </thead>\n",
       "  <tbody>\n",
       "    <tr>\n",
       "      <th>count</th>\n",
       "      <td>1000.000000</td>\n",
       "    </tr>\n",
       "    <tr>\n",
       "      <th>mean</th>\n",
       "      <td>500.500000</td>\n",
       "    </tr>\n",
       "    <tr>\n",
       "      <th>std</th>\n",
       "      <td>288.819436</td>\n",
       "    </tr>\n",
       "    <tr>\n",
       "      <th>min</th>\n",
       "      <td>1.000000</td>\n",
       "    </tr>\n",
       "    <tr>\n",
       "      <th>25%</th>\n",
       "      <td>250.750000</td>\n",
       "    </tr>\n",
       "    <tr>\n",
       "      <th>50%</th>\n",
       "      <td>500.500000</td>\n",
       "    </tr>\n",
       "    <tr>\n",
       "      <th>75%</th>\n",
       "      <td>750.250000</td>\n",
       "    </tr>\n",
       "    <tr>\n",
       "      <th>max</th>\n",
       "      <td>1000.000000</td>\n",
       "    </tr>\n",
       "  </tbody>\n",
       "</table>\n",
       "</div>"
      ],
      "text/plain": [
       "       Receiver_ID\n",
       "count  1000.000000\n",
       "mean    500.500000\n",
       "std     288.819436\n",
       "min       1.000000\n",
       "25%     250.750000\n",
       "50%     500.500000\n",
       "75%     750.250000\n",
       "max    1000.000000"
      ]
     },
     "execution_count": 302,
     "metadata": {},
     "output_type": "execute_result"
    }
   ],
   "source": [
    "data_receivers.head()\n",
    "data_receivers.info()\n",
    "data_receivers.describe()"
   ]
  },
  {
   "cell_type": "code",
   "execution_count": 303,
   "id": "18e97d92",
   "metadata": {},
   "outputs": [
    {
     "name": "stdout",
     "output_type": "stream",
     "text": [
      "<class 'pandas.core.frame.DataFrame'>\n",
      "RangeIndex: 1000 entries, 0 to 999\n",
      "Data columns (total 6 columns):\n",
      " #   Column       Non-Null Count  Dtype \n",
      "---  ------       --------------  ----- \n",
      " 0   Provider_ID  1000 non-null   int64 \n",
      " 1   Name         1000 non-null   object\n",
      " 2   Type         1000 non-null   object\n",
      " 3   Address      1000 non-null   object\n",
      " 4   City         1000 non-null   object\n",
      " 5   Contact      1000 non-null   object\n",
      "dtypes: int64(1), object(5)\n",
      "memory usage: 47.0+ KB\n"
     ]
    }
   ],
   "source": [
    "data_providers.head()\n",
    "data_providers.info()"
   ]
  },
  {
   "cell_type": "code",
   "execution_count": 304,
   "id": "8ae9dbf8",
   "metadata": {},
   "outputs": [
    {
     "name": "stdout",
     "output_type": "stream",
     "text": [
      "<class 'pandas.core.frame.DataFrame'>\n",
      "RangeIndex: 1000 entries, 0 to 999\n",
      "Data columns (total 9 columns):\n",
      " #   Column         Non-Null Count  Dtype \n",
      "---  ------         --------------  ----- \n",
      " 0   Food_ID        1000 non-null   int64 \n",
      " 1   Food_Name      1000 non-null   object\n",
      " 2   Quantity       1000 non-null   int64 \n",
      " 3   Expiry_Date    1000 non-null   object\n",
      " 4   Provider_ID    1000 non-null   int64 \n",
      " 5   Provider_Type  1000 non-null   object\n",
      " 6   Location       1000 non-null   object\n",
      " 7   Food_Type      1000 non-null   object\n",
      " 8   Meal_Type      1000 non-null   object\n",
      "dtypes: int64(3), object(6)\n",
      "memory usage: 70.4+ KB\n"
     ]
    }
   ],
   "source": [
    "data_food_listings.head()\n",
    "# data_food_listings['Food_Type'].value_counts()\n",
    "data_food_listings.info()"
   ]
  },
  {
   "cell_type": "code",
   "execution_count": 305,
   "id": "b09c5b6a",
   "metadata": {},
   "outputs": [
    {
     "name": "stdout",
     "output_type": "stream",
     "text": [
      "<class 'pandas.core.frame.DataFrame'>\n",
      "RangeIndex: 1000 entries, 0 to 999\n",
      "Data columns (total 5 columns):\n",
      " #   Column       Non-Null Count  Dtype \n",
      "---  ------       --------------  ----- \n",
      " 0   Claim_ID     1000 non-null   int64 \n",
      " 1   Food_ID      1000 non-null   int64 \n",
      " 2   Receiver_ID  1000 non-null   int64 \n",
      " 3   Status       1000 non-null   object\n",
      " 4   Timestamp    1000 non-null   object\n",
      "dtypes: int64(3), object(2)\n",
      "memory usage: 39.2+ KB\n"
     ]
    },
    {
     "data": {
      "text/html": [
       "<div>\n",
       "<style scoped>\n",
       "    .dataframe tbody tr th:only-of-type {\n",
       "        vertical-align: middle;\n",
       "    }\n",
       "\n",
       "    .dataframe tbody tr th {\n",
       "        vertical-align: top;\n",
       "    }\n",
       "\n",
       "    .dataframe thead th {\n",
       "        text-align: right;\n",
       "    }\n",
       "</style>\n",
       "<table border=\"1\" class=\"dataframe\">\n",
       "  <thead>\n",
       "    <tr style=\"text-align: right;\">\n",
       "      <th></th>\n",
       "      <th>Claim_ID</th>\n",
       "      <th>Food_ID</th>\n",
       "      <th>Receiver_ID</th>\n",
       "    </tr>\n",
       "  </thead>\n",
       "  <tbody>\n",
       "    <tr>\n",
       "      <th>count</th>\n",
       "      <td>1000.000000</td>\n",
       "      <td>1000.000000</td>\n",
       "      <td>1000.000000</td>\n",
       "    </tr>\n",
       "    <tr>\n",
       "      <th>mean</th>\n",
       "      <td>500.500000</td>\n",
       "      <td>502.163000</td>\n",
       "      <td>492.437000</td>\n",
       "    </tr>\n",
       "    <tr>\n",
       "      <th>std</th>\n",
       "      <td>288.819436</td>\n",
       "      <td>292.462255</td>\n",
       "      <td>284.487869</td>\n",
       "    </tr>\n",
       "    <tr>\n",
       "      <th>min</th>\n",
       "      <td>1.000000</td>\n",
       "      <td>1.000000</td>\n",
       "      <td>1.000000</td>\n",
       "    </tr>\n",
       "    <tr>\n",
       "      <th>25%</th>\n",
       "      <td>250.750000</td>\n",
       "      <td>233.750000</td>\n",
       "      <td>256.000000</td>\n",
       "    </tr>\n",
       "    <tr>\n",
       "      <th>50%</th>\n",
       "      <td>500.500000</td>\n",
       "      <td>504.500000</td>\n",
       "      <td>480.500000</td>\n",
       "    </tr>\n",
       "    <tr>\n",
       "      <th>75%</th>\n",
       "      <td>750.250000</td>\n",
       "      <td>762.000000</td>\n",
       "      <td>742.250000</td>\n",
       "    </tr>\n",
       "    <tr>\n",
       "      <th>max</th>\n",
       "      <td>1000.000000</td>\n",
       "      <td>999.000000</td>\n",
       "      <td>1000.000000</td>\n",
       "    </tr>\n",
       "  </tbody>\n",
       "</table>\n",
       "</div>"
      ],
      "text/plain": [
       "          Claim_ID      Food_ID  Receiver_ID\n",
       "count  1000.000000  1000.000000  1000.000000\n",
       "mean    500.500000   502.163000   492.437000\n",
       "std     288.819436   292.462255   284.487869\n",
       "min       1.000000     1.000000     1.000000\n",
       "25%     250.750000   233.750000   256.000000\n",
       "50%     500.500000   504.500000   480.500000\n",
       "75%     750.250000   762.000000   742.250000\n",
       "max    1000.000000   999.000000  1000.000000"
      ]
     },
     "execution_count": 305,
     "metadata": {},
     "output_type": "execute_result"
    }
   ],
   "source": [
    "data_claims.head()\n",
    "data_claims.info()\n",
    "data_claims.describe()"
   ]
  },
  {
   "cell_type": "markdown",
   "id": "ba30148d",
   "metadata": {},
   "source": [
    "Null and duplicate remove\n"
   ]
  },
  {
   "cell_type": "code",
   "execution_count": 306,
   "id": "3d7e4541",
   "metadata": {},
   "outputs": [
    {
     "data": {
      "text/plain": [
       "np.int64(0)"
      ]
     },
     "execution_count": 306,
     "metadata": {},
     "output_type": "execute_result"
    }
   ],
   "source": [
    "data_claims.isnull().sum()    #None\n",
    "data_claims.duplicated().sum()    #None\n"
   ]
  },
  {
   "cell_type": "code",
   "execution_count": 307,
   "id": "b5fc04ff",
   "metadata": {},
   "outputs": [
    {
     "data": {
      "text/plain": [
       "np.int64(0)"
      ]
     },
     "execution_count": 307,
     "metadata": {},
     "output_type": "execute_result"
    }
   ],
   "source": [
    "data_food_listings.isnull().sum()   #None\n",
    "data_food_listings.duplicated().sum()   #None"
   ]
  },
  {
   "cell_type": "code",
   "execution_count": 308,
   "id": "a8b98dbf",
   "metadata": {},
   "outputs": [
    {
     "data": {
      "text/plain": [
       "np.int64(0)"
      ]
     },
     "execution_count": 308,
     "metadata": {},
     "output_type": "execute_result"
    }
   ],
   "source": [
    "data_providers.isnull().sum()   #None\n",
    "data_providers.duplicated().sum()   #None"
   ]
  },
  {
   "cell_type": "code",
   "execution_count": 309,
   "id": "65fbda47",
   "metadata": {},
   "outputs": [
    {
     "data": {
      "text/plain": [
       "np.int64(0)"
      ]
     },
     "execution_count": 309,
     "metadata": {},
     "output_type": "execute_result"
    }
   ],
   "source": [
    "data_receivers.isnull().sum()   #None\n",
    "data_receivers.duplicated().sum()   #None"
   ]
  },
  {
   "cell_type": "markdown",
   "id": "e031b21c",
   "metadata": {},
   "source": [
    "Mysql connection"
   ]
  },
  {
   "cell_type": "code",
   "execution_count": 310,
   "id": "29eeda04",
   "metadata": {},
   "outputs": [
    {
     "name": "stdout",
     "output_type": "stream",
     "text": [
      "Connected to the database successfully!\n"
     ]
    }
   ],
   "source": [
    "import MySQLdb\n",
    "\n",
    "try:\n",
    "    db = MySQLdb.connect(\n",
    "        host=config('db_host'),\n",
    "        user=config(\"db_user\"),\n",
    "        passwd=config('db_password'),\n",
    "        port=int(config('db_port')),\n",
    "        # database='food_wastage_management_system'\n",
    "    )\n",
    "    cursor = db.cursor()\n",
    "    print(\"Connected to the database successfully!\")\n",
    "except MySQLdb.Error as e:\n",
    "    print(f\"Error connecting to database: {e}\")\n",
    "\n"
   ]
  },
  {
   "cell_type": "markdown",
   "id": "97011608",
   "metadata": {},
   "source": [
    "create databases"
   ]
  },
  {
   "cell_type": "code",
   "execution_count": 311,
   "id": "d80521ad",
   "metadata": {},
   "outputs": [],
   "source": [
    "cursor.execute(\"CREATE DATABASE IF NOT EXISTS food_wastage_management_system\")\n",
    "db.commit()"
   ]
  },
  {
   "cell_type": "code",
   "execution_count": 312,
   "id": "d0c1e385",
   "metadata": {},
   "outputs": [],
   "source": [
    "query_use_db = \"USE food_wastage_management_system\"\n",
    "cursor.execute(query_use_db)\n",
    "\n",
    "# Creating  Table\n",
    "\n",
    "cursor.execute(\"\"\"\n",
    "    CREATE TABLE IF NOT EXISTS providers (\n",
    "        Provider_ID INT PRIMARY KEY,\n",
    "        Name VARCHAR(255),\n",
    "        Type VARCHAR(100),\n",
    "        Address TEXT,\n",
    "        City VARCHAR(100),\n",
    "        Contact VARCHAR(50)\n",
    "    )\n",
    "\"\"\")\n",
    "cursor.execute(\"\"\"\n",
    "    CREATE TABLE IF NOT EXISTS receivers (\n",
    "        Receiver_ID INT PRIMARY KEY,\n",
    "        Name VARCHAR(255),\n",
    "        Type VARCHAR(100),\n",
    "        City VARCHAR(100),\n",
    "        Contact VARCHAR(50)\n",
    "    )\n",
    "\"\"\")\n",
    "cursor.execute(\"\"\"\n",
    "    CREATE TABLE IF NOT EXISTS food_listings (\n",
    "        Food_ID INT PRIMARY KEY,\n",
    "        Food_Name VARCHAR(255),\n",
    "        Quantity INT,\n",
    "        Expiry_Date DATE,       \n",
    "        Provider_ID INT,\n",
    "        Provider_Type VARCHAR(100),\n",
    "        Location VARCHAR(255),\n",
    "        Food_Type VARCHAR(100),\n",
    "        Meal_Type VARCHAR(100),          \n",
    "        FOREIGN KEY (Provider_ID) REFERENCES providers(Provider_ID)\n",
    "    )\n",
    "\"\"\")\n",
    "cursor.execute(\"\"\"\n",
    "    CREATE TABLE IF NOT EXISTS claims (\n",
    "        Claim_ID INT PRIMARY KEY,\n",
    "        Food_ID INT,\n",
    "        Receiver_ID INT,\n",
    "        Status VARCHAR(50),\n",
    "        Timestamp DATETIME,       \n",
    "        FOREIGN KEY (Food_ID) REFERENCES food_listings(Food_ID),\n",
    "        FOREIGN KEY (Receiver_ID) REFERENCES receivers(Receiver_ID)\n",
    "    )\n",
    "\"\"\")\n",
    "db.commit()"
   ]
  },
  {
   "cell_type": "code",
   "execution_count": 313,
   "id": "470934cf",
   "metadata": {},
   "outputs": [],
   "source": [
    "# data_food_listings['Expiry_Date']\n",
    "# data_providers['Provider_ID'].values"
   ]
  },
  {
   "cell_type": "code",
   "execution_count": 314,
   "id": "dc1b78e5",
   "metadata": {},
   "outputs": [],
   "source": [
    "# data_claims['Timestamp']"
   ]
  },
  {
   "cell_type": "code",
   "execution_count": 315,
   "id": "4e1a9088",
   "metadata": {},
   "outputs": [],
   "source": [
    "data_food_listings['Expiry_Date'] = pd.to_datetime(data_food_listings['Expiry_Date'], format='%m/%d/%Y')\n",
    "data_claims['Timestamp'] = pd.to_datetime(\n",
    "    data_claims['Timestamp'], \n",
    "    format='%m/%d/%Y %H:%M'\n",
    ")\n"
   ]
  },
  {
   "cell_type": "code",
   "execution_count": 316,
   "id": "43f230e4",
   "metadata": {},
   "outputs": [],
   "source": [
    "#Insert data into tables\n",
    "for _, row in data_providers.iterrows():\n",
    "    cursor.execute(\"\"\"\n",
    "        INSERT INTO providers (Provider_ID, Name, Type, Address, City, Contact)\n",
    "        VALUES (%s, %s, %s, %s, %s, %s)\n",
    "    \"\"\", tuple(row))\n",
    "for _, row in data_receivers.iterrows():\n",
    "    cursor.execute(\"\"\"\n",
    "        INSERT INTO receivers (Receiver_ID, Name, Type, City, Contact)\n",
    "        VALUES (%s, %s, %s, %s, %s)\n",
    "    \"\"\", tuple(row))\n",
    "for _, row in data_food_listings.iterrows():\n",
    "    cursor.execute(\"\"\"\n",
    "        INSERT INTO food_listings (Food_ID, Food_Name, Quantity, Expiry_Date, Provider_ID, Provider_Type, Location, Food_Type, Meal_Type)\n",
    "        VALUES (%s, %s, %s, %s, %s, %s, %s, %s, %s)\n",
    "    \"\"\", tuple(row))\n",
    "for _, row in data_claims.iterrows():\n",
    "    cursor.execute(\"\"\"\n",
    "        INSERT INTO claims (Claim_ID, Food_ID, Receiver_ID, Status, Timestamp)\n",
    "        VALUES (%s, %s, %s, %s, %s)\n",
    "    \"\"\", tuple(row))      \n",
    "cursor.execute(\"COMMIT\")\n",
    "cursor.close()\n",
    "\n"
   ]
  },
  {
   "cell_type": "markdown",
   "id": "437b1644",
   "metadata": {},
   "source": [
    "If Lock wait timeout exceeded; try restarting transaction"
   ]
  },
  {
   "cell_type": "code",
   "execution_count": 317,
   "id": "7231f956",
   "metadata": {},
   "outputs": [],
   "source": [
    "# cursor.execute('show processlist')\n",
    "# processes = cursor.fetchall()\n",
    "# for process in processes:\n",
    "#     print(process)"
   ]
  },
  {
   "cell_type": "code",
   "execution_count": 318,
   "id": "1732938f",
   "metadata": {},
   "outputs": [],
   "source": [
    "# sleeping_ids = [24,25,26]  # the ones from SHOW PROCESSLIST\n",
    "# for pid in sleeping_ids:\n",
    "#     cursor.execute(f\"kill {pid}\")"
   ]
  },
  {
   "cell_type": "markdown",
   "id": "0c7797c6",
   "metadata": {},
   "source": [
    "Question "
   ]
  },
  {
   "cell_type": "code",
   "execution_count": null,
   "id": "1eac10a6",
   "metadata": {},
   "outputs": [],
   "source": []
  },
  {
   "cell_type": "code",
   "execution_count": null,
   "id": "a194eef5",
   "metadata": {},
   "outputs": [],
   "source": []
  },
  {
   "cell_type": "code",
   "execution_count": null,
   "id": "f3a31df2",
   "metadata": {},
   "outputs": [],
   "source": []
  },
  {
   "cell_type": "code",
   "execution_count": null,
   "id": "95b591a4",
   "metadata": {},
   "outputs": [],
   "source": []
  },
  {
   "cell_type": "code",
   "execution_count": null,
   "id": "41b8b6d9",
   "metadata": {},
   "outputs": [],
   "source": []
  },
  {
   "cell_type": "code",
   "execution_count": null,
   "id": "b9506ec6",
   "metadata": {},
   "outputs": [],
   "source": []
  },
  {
   "cell_type": "code",
   "execution_count": null,
   "id": "4f8ea5c5",
   "metadata": {},
   "outputs": [],
   "source": []
  },
  {
   "cell_type": "code",
   "execution_count": null,
   "id": "20803778",
   "metadata": {},
   "outputs": [],
   "source": []
  },
  {
   "cell_type": "code",
   "execution_count": null,
   "id": "d85d453e",
   "metadata": {},
   "outputs": [],
   "source": []
  }
 ],
 "metadata": {
  "kernelspec": {
   "display_name": "Python 3",
   "language": "python",
   "name": "python3"
  },
  "language_info": {
   "codemirror_mode": {
    "name": "ipython",
    "version": 3
   },
   "file_extension": ".py",
   "mimetype": "text/x-python",
   "name": "python",
   "nbconvert_exporter": "python",
   "pygments_lexer": "ipython3",
   "version": "3.13.2"
  }
 },
 "nbformat": 4,
 "nbformat_minor": 5
}
